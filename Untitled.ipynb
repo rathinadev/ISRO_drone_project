{
 "cells": [
  {
   "cell_type": "code",
   "execution_count": 3,
   "id": "8fb731ee-606d-4128-8ddf-5b53749aaf54",
   "metadata": {},
   "outputs": [
    {
     "name": "stdout",
     "output_type": "stream",
     "text": [
      "\u001b[1;33m[Open3D WARNING] GLFW Error: GLX: No GLXFBConfigs returned\u001b[0;m\n",
      "\u001b[1;33m[Open3D WARNING] GLFW Error: GLX: Failed to find a suitable GLXFBConfig\u001b[0;m\n",
      "\u001b[1;33m[Open3D WARNING] Failed to create window\u001b[0;m\n",
      "\u001b[1;33m[Open3D WARNING] [DrawGeometries] Failed creating OpenGL window.\u001b[0;m\n"
     ]
    }
   ],
   "source": [
    "import open3d as o3d\n",
    "\n",
    "# Read the PCD file directly\n",
    "pcd = o3d.io.read_point_cloud(\"drone/data/terrain/CSite1_orig-utm.pcd\")\n",
    "\n",
    "# Visualize the point cloud\n",
    "o3d.visualization.draw_geometries([pcd])\n"
   ]
  },
  {
   "cell_type": "code",
   "execution_count": null,
   "id": "d79b36f0-e6fe-4dcc-a45c-5b41a7bc6202",
   "metadata": {},
   "outputs": [],
   "source": []
  }
 ],
 "metadata": {
  "kernelspec": {
   "display_name": "Python 3 (ipykernel)",
   "language": "python",
   "name": "python3"
  },
  "language_info": {
   "codemirror_mode": {
    "name": "ipython",
    "version": 3
   },
   "file_extension": ".py",
   "mimetype": "text/x-python",
   "name": "python",
   "nbconvert_exporter": "python",
   "pygments_lexer": "ipython3",
   "version": "3.12.4"
  }
 },
 "nbformat": 4,
 "nbformat_minor": 5
}
